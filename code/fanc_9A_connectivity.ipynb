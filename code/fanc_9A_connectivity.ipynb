{
 "cells": [
  {
   "cell_type": "code",
   "execution_count": 1,
   "id": "036d3b32",
   "metadata": {},
   "outputs": [],
   "source": [
    "from caveclient import CAVEclient\n",
    "import numpy as np\n",
    "\n",
    "import sys\n",
    "sys.path.append('utils')\n",
    "from FANC_utils import filter_syn_df"
   ]
  },
  {
   "cell_type": "code",
   "execution_count": 2,
   "id": "9a1b4af0",
   "metadata": {},
   "outputs": [],
   "source": [
    "# Initialize CAVEclient\n",
    "# This step requires an authentication token, see https://caveclient.readthedocs.io/en/latest/guide/authentication.html\n",
    "client = CAVEclient()\n",
    "datastack_name = 'fanc_production_mar2021'\n",
    "client = CAVEclient(datastack_name)\n",
    "client.materialize.version = 840"
   ]
  },
  {
   "cell_type": "code",
   "execution_count": 19,
   "id": "ccb5911d",
   "metadata": {},
   "outputs": [],
   "source": [
    "timestamp = '2024-01-17T08:10:01.179472'"
   ]
  },
  {
   "cell_type": "code",
   "execution_count": 3,
   "id": "b46b627a",
   "metadata": {},
   "outputs": [],
   "source": [
    "# Specify 9A IDs \n",
    "# client.materialize.version = 840\n",
    "# timestamp = '2024-01-17T08:10:01.179472'\n",
    "source_ids = [648518346496946148, # chief_9A\n",
    "              648518346479847574, # 9A_1\n",
    "              648518346479837078, # 9A_2\n",
    "              648518346498002535, # 9A_3\n",
    "              648518346479879156, # 9A_4\n",
    "              648518346467364359, # 9A_5\n",
    "              648518346486716621] # 9A_6"
   ]
  },
  {
   "cell_type": "markdown",
   "id": "72362d38",
   "metadata": {},
   "source": [
    "# Calculate 9A outputs onto hook "
   ]
  },
  {
   "cell_type": "code",
   "execution_count": 5,
   "id": "1cc04934",
   "metadata": {},
   "outputs": [],
   "source": [
    "# Specify target IDs\n",
    "target_df = client.materialize.query_table('feco_axons_v0')\n",
    "target_df = target_df.query('cell_type.str.contains(\"hook\")')\n",
    "target_ids = target_df.pt_root_id.to_list()"
   ]
  },
  {
   "cell_type": "code",
   "execution_count": 8,
   "id": "b0ffe985",
   "metadata": {},
   "outputs": [],
   "source": [
    "syn_thresh = 3\n",
    "n_syn = np.zeros(len(source_ids))\n",
    "\n",
    "for ix, i in enumerate(source_ids):\n",
    "    syn_df = client.materialize.synapse_query(pre_ids=i)   \n",
    "    syn_df_filt = filter_syn_df(syn_df, syn_thresh)\n",
    "    syn_per_conn = syn_df_filt.groupby(['pre_pt_root_id','post_pt_root_id'])['post_pt_root_id'].count().reset_index(name=\"number_of_synapses\").sort_values(by=[\"number_of_synapses\"]).sort_values(by=['number_of_synapses'], ascending=False).reset_index(drop=True)\n",
    "    \n",
    "    # Calculate relative output   \n",
    "    partner_ids = syn_per_conn.post_pt_root_id.to_list()\n",
    "    for j in partner_ids:\n",
    "        if j in target_ids:\n",
    "            n_syn[ix] += syn_per_conn.number_of_synapses[syn_per_conn.post_pt_root_id==j].item() / sum(syn_per_conn.number_of_synapses)"
   ]
  },
  {
   "cell_type": "code",
   "execution_count": 9,
   "id": "23e175ed",
   "metadata": {},
   "outputs": [
    {
     "data": {
      "text/plain": [
       "array([0.62783505, 0.11490683, 0.00810081, 1.        , 0.04190049,\n",
       "       0.5483871 , 0.17647059])"
      ]
     },
     "execution_count": 9,
     "metadata": {},
     "output_type": "execute_result"
    }
   ],
   "source": [
    "n_syn"
   ]
  },
  {
   "cell_type": "markdown",
   "id": "f430dea7",
   "metadata": {},
   "source": [
    "# Calculate 9A input from sensory or descending neurons"
   ]
  },
  {
   "cell_type": "code",
   "execution_count": 29,
   "id": "b277d390",
   "metadata": {},
   "outputs": [],
   "source": [
    "# Get neuron information\n",
    "neuron_info_df = client.materialize.query_table('neuron_information')"
   ]
  },
  {
   "cell_type": "code",
   "execution_count": 30,
   "id": "80c8affc",
   "metadata": {},
   "outputs": [],
   "source": [
    "# Get target IDs\n",
    "tag = 'sensory neuron'\n",
    "#tag = 'descending'\n",
    "target_ids = neuron_info_df.pt_root_id[neuron_info_df.tag==tag].tolist()"
   ]
  },
  {
   "cell_type": "code",
   "execution_count": 32,
   "id": "4087ca12",
   "metadata": {},
   "outputs": [],
   "source": [
    "syn_thresh = 3\n",
    "n_syn = np.zeros(len(source_ids))\n",
    "\n",
    "for ix, i in enumerate(source_ids):\n",
    "    syn_df = client.materialize.synapse_query(post_ids=i)   \n",
    "    syn_df_filt = filter_syn_df(syn_df, syn_thresh)\n",
    "    syn_per_conn = syn_df_filt.groupby(['pre_pt_root_id','post_pt_root_id'])['post_pt_root_id'].count().reset_index(name=\"number_of_synapses\").sort_values(by=[\"number_of_synapses\"]).sort_values(by=['number_of_synapses'], ascending=False).reset_index(drop=True)\n",
    "    \n",
    "    partner_ids = syn_per_conn.pre_pt_root_id.to_list()\n",
    "    for j in partner_ids:\n",
    "        if j in target_ids:\n",
    "            n_syn[ix] += syn_per_conn.number_of_synapses[syn_per_conn.pre_pt_root_id==j].item() / sum(syn_per_conn.number_of_synapses)"
   ]
  },
  {
   "cell_type": "code",
   "execution_count": 33,
   "id": "f0f5125a",
   "metadata": {},
   "outputs": [
    {
     "data": {
      "text/plain": [
       "array([0.03960396, 0.32061069, 0.00099577, 0.18567639, 0.04017857,\n",
       "       0.13507625, 0.04142012])"
      ]
     },
     "execution_count": 33,
     "metadata": {},
     "output_type": "execute_result"
    }
   ],
   "source": [
    "n_syn"
   ]
  },
  {
   "cell_type": "markdown",
   "id": "7fa83417",
   "metadata": {},
   "source": [
    "# Calculate 9A input from premotor neurons"
   ]
  },
  {
   "cell_type": "code",
   "execution_count": 34,
   "id": "c765ae96",
   "metadata": {},
   "outputs": [],
   "source": [
    "# Specify target IDs\n",
    "target_df = client.materialize.query_table('left_t1_local_premotor_table_v6')\n",
    "target_ids = target_df.pt_root_id.to_list()"
   ]
  },
  {
   "cell_type": "code",
   "execution_count": 36,
   "id": "57378bb9",
   "metadata": {},
   "outputs": [],
   "source": [
    "syn_thresh = 3\n",
    "n_syn = np.zeros(len(source_ids))\n",
    "\n",
    "for ix, i in enumerate(source_ids):\n",
    "    syn_df = client.materialize.synapse_query(post_ids=i)   \n",
    "    syn_df_filt = filter_syn_df(syn_df, syn_thresh)\n",
    "    syn_per_conn = syn_df_filt.groupby(['pre_pt_root_id','post_pt_root_id'])['post_pt_root_id'].count().reset_index(name=\"number_of_synapses\").sort_values(by=[\"number_of_synapses\"]).sort_values(by=['number_of_synapses'], ascending=False).reset_index(drop=True)\n",
    "    \n",
    "    partner_ids = syn_per_conn.pre_pt_root_id.to_list()\n",
    "    for j in partner_ids:\n",
    "        if j in target_ids:\n",
    "            n_syn[ix] += syn_per_conn.number_of_synapses[syn_per_conn.pre_pt_root_id==j].item() / sum(syn_per_conn.number_of_synapses)"
   ]
  },
  {
   "cell_type": "code",
   "execution_count": 37,
   "id": "a50be2c5",
   "metadata": {},
   "outputs": [
    {
     "data": {
      "text/plain": [
       "array([0.06930693, 0.12977099, 0.35997013, 0.44562334, 0.63839286,\n",
       "       0.53812636, 0.70414201])"
      ]
     },
     "execution_count": 37,
     "metadata": {},
     "output_type": "execute_result"
    }
   ],
   "source": [
    "n_syn"
   ]
  }
 ],
 "metadata": {
  "kernelspec": {
   "display_name": "Python 3 (ipykernel)",
   "language": "python",
   "name": "python3"
  },
  "language_info": {
   "codemirror_mode": {
    "name": "ipython",
    "version": 3
   },
   "file_extension": ".py",
   "mimetype": "text/x-python",
   "name": "python",
   "nbconvert_exporter": "python",
   "pygments_lexer": "ipython3",
   "version": "3.10.14"
  }
 },
 "nbformat": 4,
 "nbformat_minor": 5
}
