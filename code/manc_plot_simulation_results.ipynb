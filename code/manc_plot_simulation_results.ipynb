{
 "cells": [
  {
   "cell_type": "markdown",
   "id": "c9e330c4-7ba1-4770-9939-af9aa2e0a496",
   "metadata": {},
   "source": [
    "Author: Chris J. Dallmann \\\n",
    "Affiliation: University of Wuerzburg \\\n",
    "Last revision: 12-March-2025"
   ]
  },
  {
   "cell_type": "code",
   "execution_count": 13,
   "id": "8448395c-3548-44f2-af40-07871ae7415e",
   "metadata": {},
   "outputs": [],
   "source": [
    "import numpy as np\n",
    "import matplotlib.pyplot as plt\n",
    "import seaborn as sns"
   ]
  },
  {
   "cell_type": "code",
   "execution_count": 24,
   "id": "555cc838-d702-45a7-9433-2b30f5cc156f",
   "metadata": {},
   "outputs": [],
   "source": [
    "# Get simulation results\n",
    "# To do: Import results files\n",
    "simulation_results = np.array((\n",
    "    [12.3, 27.5, 41.2, 3.464285714, 5.9, 9.433333333, 18.33333333, 44.76666667, 62.56666667, 6.5, 13.83333333, 19.03333333], \n",
    "    [12.2, 27.76666667, 41.4, 3.678571429, 6.733333333, 10.53333333, 0, 0, 0, 0, 0, 0], \n",
    "    [9.833333333, 24.1, 37.43333333, 2.48, 4.133333333, 6.433333333, 0, 0, 0, 0, 0, 0]\n",
    "))"
   ]
  },
  {
   "cell_type": "code",
   "execution_count": 23,
   "id": "eda0770a-ef0d-4c02-ab5b-8c436e78db93",
   "metadata": {},
   "outputs": [
    {
     "data": {
      "image/png": "[encoded data removed]",
      "text/plain": [
       "<Figure size 500x200 with 2 Axes>"
      ]
     },
     "metadata": {},
     "output_type": "display_data"
    }
   ],
   "source": [
    "# Plot simulation results \n",
    "fig = plt.figure(figsize=(5,2))\n",
    "cmap = sns.color_palette(\"gray_r\", as_cmap=True)\n",
    "xticklabels =  [50,100,150,50,100,150,50,100,150,50,100,150]\n",
    "yticklabels = ['L1','L2','L3']\n",
    "sns.heatmap(simulation_results, \n",
    "            cmap=cmap,\n",
    "            xticklabels=xticklabels, \n",
    "            yticklabels=yticklabels)            \n",
    "plt.ylabel('Leg neuropil')\n",
    "plt.xlabel('Stimulation frequency (Hz)')\n",
    "plt.yticks(rotation=0)\n",
    "plt.xticks(rotation=90)\n",
    "fig.tight_layout()\n",
    "plt.show()"
   ]
  }
 ],
 "metadata": {
  "kernelspec": {
   "display_name": "Python 3 (ipykernel)",
   "language": "python",
   "name": "python3"
  },
  "language_info": {
   "codemirror_mode": {
    "name": "ipython",
    "version": 3
   },
   "file_extension": ".py",
   "mimetype": "text/x-python",
   "name": "python",
   "nbconvert_exporter": "python",
   "pygments_lexer": "ipython3",
   "version": "3.10.16"
  }
 },
 "nbformat": 4,
 "nbformat_minor": 5
}
