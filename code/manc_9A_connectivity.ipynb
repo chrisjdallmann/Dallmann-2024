{
 "cells": [
  {
   "cell_type": "code",
   "execution_count": 5,
   "id": "8f984fc1",
   "metadata": {},
   "outputs": [],
   "source": [
    "import numpy as np\n",
    "import pandas as pd\n",
    "import seaborn as sea\n",
    "import matplotlib.pyplot as plt\n",
    "\n",
    "from neuprint import Client\n",
    "from neuprint import fetch_neurons\n",
    "from neuprint import fetch_adjacencies\n",
    "from neuprint import NeuronCriteria as NC"
   ]
  },
  {
   "cell_type": "code",
   "execution_count": 7,
   "id": "3704fb2c",
   "metadata": {},
   "outputs": [
    {
     "data": {
      "text/plain": [
       "'0.1.0'"
      ]
     },
     "execution_count": 7,
     "metadata": {},
     "output_type": "execute_result"
    }
   ],
   "source": [
    "# Initialize client\n",
    "token = '' # From https://neuprint.janelia.org/account\n",
    "c = Client('neuprint.janelia.org', dataset='manc:v1.0', token=token)\n",
    "c.fetch_version()"
   ]
  },
  {
   "cell_type": "code",
   "execution_count": 8,
   "id": "e9ee2288",
   "metadata": {},
   "outputs": [],
   "source": [
    "# IDs of chief 9A neurons\n",
    "chief_9A_ids = [100513, # L1\n",
    "                13157, # L2\n",
    "                14517, # L3\n",
    "                165560, # R1\n",
    "                12443, # R2\n",
    "                12804] # R3"
   ]
  },
  {
   "cell_type": "code",
   "execution_count": 9,
   "id": "a67578f0-b172-49fd-9a96-6f4b5e5ddba1",
   "metadata": {},
   "outputs": [
    {
     "name": "stderr",
     "output_type": "stream",
     "text": [
      "C:\\Users\\Chris\\anaconda3\\envs\\Dallmann_2024\\lib\\site-packages\\neuprint\\client.py:609: FutureWarning: Series.__getitem__ treating keys as positions is deprecated. In a future version, integer keys will always be treated as labels (consistent with DataFrame behavior). To access a value by position, use `ser.iloc[pos]`\n",
      "  neuron_props_val = df_results.iloc[0][0]\n",
      "C:\\Users\\Chris\\anaconda3\\envs\\Dallmann_2024\\lib\\site-packages\\neuprint\\client.py:619: FutureWarning: Series.__getitem__ treating keys as positions is deprecated. In a future version, integer keys will always be treated as labels (consistent with DataFrame behavior). To access a value by position, use `ser.iloc[pos]`\n",
      "  neuron_props_val = df_results.iloc[0][0]\n"
     ]
    }
   ],
   "source": [
    "# IDs of hook neurons\n",
    "criteria = NC(type='SNpp38')\n",
    "neuron_df, roi_counts_df = fetch_neurons(criteria)\n",
    "hook_ids = neuron_df.bodyId.to_list()"
   ]
  },
  {
   "cell_type": "code",
   "execution_count": 111,
   "id": "356bc101-59eb-4f9a-a2c6-4cf78a05df44",
   "metadata": {},
   "outputs": [],
   "source": [
    "# Selecct specific chief 9A\n",
    "chief_9A_id = chief_9A_ids[0]"
   ]
  },
  {
   "cell_type": "code",
   "execution_count": 112,
   "id": "5515a8a1",
   "metadata": {},
   "outputs": [],
   "source": [
    "# Find postsynaptic neurons\n",
    "neuron_df, conn_df = fetch_adjacencies(chief_9A_id, None)"
   ]
  },
  {
   "cell_type": "code",
   "execution_count": 113,
   "id": "0dab8e64",
   "metadata": {},
   "outputs": [],
   "source": [
    "# Sum weights across neuropils and sort\n",
    "conn_df = conn_df.groupby(['bodyId_pre','bodyId_post'])['weight'].sum().reset_index().sort_values('weight', ascending=False)"
   ]
  },
  {
   "cell_type": "code",
   "execution_count": 114,
   "id": "6accfb4f",
   "metadata": {},
   "outputs": [],
   "source": [
    "# Remove connections with weights < weight_thresh\n",
    "weight_thresh = 5 \n",
    "idx_drop = conn_df.index[conn_df.weight<weight_thresh]\n",
    "conn_df = conn_df.drop(index=idx_drop) "
   ]
  },
  {
   "cell_type": "code",
   "execution_count": 115,
   "id": "5f433850-5003-43b3-9b59-935173ea872c",
   "metadata": {},
   "outputs": [],
   "source": [
    "# Find type of partner neurons  \n",
    "neuron_type = [] \n",
    "n_syn_hook = 0\n",
    "for idx, row in conn_df.iterrows():\n",
    "    neuron_type_temp = neuron_df.type[neuron_df.bodyId == conn_df.bodyId_post[idx]].item()\n",
    "    if neuron_type_temp is None:\n",
    "        neuron_type.append('Unknown')\n",
    "    elif 'IN' in neuron_type_temp:\n",
    "        neuron_type.append('IN')\n",
    "    elif 'MN' in neuron_type_temp:\n",
    "        neuron_type.append('MN')\n",
    "    elif 'AN' in neuron_type_temp:\n",
    "        neuron_type.append('AN')\n",
    "    elif 'DN' in neuron_type_temp:\n",
    "        neuron_type.append('DN')\n",
    "    elif 'SN' in neuron_type_temp or 'SA' in neuron_type_temp:\n",
    "        neuron_type.append('SN')\n",
    "        if conn_df.bodyId_post[idx] in hook_ids:\n",
    "            n_syn_hook += conn_df.weight[idx].item()\n",
    "    elif 'EN' in neuron_type_temp or 'EA' in neuron_type_temp:\n",
    "        # The web neuron makes only few synapses with efferent neurons (ENs). They are counted as IN here.\n",
    "        neuron_type.append('IN') \n",
    "        \n",
    "conn_df['neuron_type'] = neuron_type"
   ]
  },
  {
   "cell_type": "code",
   "execution_count": 116,
   "id": "a43bfaa1-4f17-411e-9152-2c874855bd08",
   "metadata": {},
   "outputs": [
    {
     "data": {
      "text/html": [
       "<div>\n",
       "<style scoped>\n",
       "    .dataframe tbody tr th:only-of-type {\n",
       "        vertical-align: middle;\n",
       "    }\n",
       "\n",
       "    .dataframe tbody tr th {\n",
       "        vertical-align: top;\n",
       "    }\n",
       "\n",
       "    .dataframe thead th {\n",
       "        text-align: right;\n",
       "    }\n",
       "</style>\n",
       "<table border=\"1\" class=\"dataframe\">\n",
       "  <thead>\n",
       "    <tr style=\"text-align: right;\">\n",
       "      <th></th>\n",
       "      <th>neuron_type</th>\n",
       "      <th>weight</th>\n",
       "    </tr>\n",
       "  </thead>\n",
       "  <tbody>\n",
       "    <tr>\n",
       "      <th>3</th>\n",
       "      <td>SN</td>\n",
       "      <td>602</td>\n",
       "    </tr>\n",
       "    <tr>\n",
       "      <th>1</th>\n",
       "      <td>IN</td>\n",
       "      <td>227</td>\n",
       "    </tr>\n",
       "    <tr>\n",
       "      <th>4</th>\n",
       "      <td>Unknown</td>\n",
       "      <td>111</td>\n",
       "    </tr>\n",
       "    <tr>\n",
       "      <th>2</th>\n",
       "      <td>MN</td>\n",
       "      <td>13</td>\n",
       "    </tr>\n",
       "    <tr>\n",
       "      <th>0</th>\n",
       "      <td>AN</td>\n",
       "      <td>6</td>\n",
       "    </tr>\n",
       "  </tbody>\n",
       "</table>\n",
       "</div>"
      ],
      "text/plain": [
       "  neuron_type  weight\n",
       "3          SN     602\n",
       "1          IN     227\n",
       "4     Unknown     111\n",
       "2          MN      13\n",
       "0          AN       6"
      ]
     },
     "execution_count": 116,
     "metadata": {},
     "output_type": "execute_result"
    }
   ],
   "source": [
    "# Sum weights for each type \n",
    "conn_df_sum = conn_df.groupby(['neuron_type'])['weight'].sum().reset_index().sort_values('weight', ascending=False)\n",
    "conn_df_sum"
   ]
  },
  {
   "cell_type": "code",
   "execution_count": 117,
   "id": "5ba412bb-a175-4e3b-96e2-72bd4109d4ec",
   "metadata": {},
   "outputs": [
    {
     "data": {
      "text/plain": [
       "0.6277372262773723"
      ]
     },
     "execution_count": 117,
     "metadata": {},
     "output_type": "execute_result"
    }
   ],
   "source": [
    "# Calculate relative weight for specific type \n",
    "conn_df_sum.weight[conn_df_sum.neuron_type=='SN'].item() / conn_df_sum.weight.sum()"
   ]
  },
  {
   "cell_type": "code",
   "execution_count": 118,
   "id": "31cab9ce-23a3-489d-8358-72e68dcc53ef",
   "metadata": {},
   "outputs": [
    {
     "data": {
      "text/plain": [
       "0.4942648592283629"
      ]
     },
     "execution_count": 118,
     "metadata": {},
     "output_type": "execute_result"
    }
   ],
   "source": [
    "# Calculate relative weight for hook \n",
    "n_syn_hook / conn_df_sum.weight.sum()"
   ]
  }
 ],
 "metadata": {
  "kernelspec": {
   "display_name": "Python 3 (ipykernel)",
   "language": "python",
   "name": "python3"
  },
  "language_info": {
   "codemirror_mode": {
    "name": "ipython",
    "version": 3
   },
   "file_extension": ".py",
   "mimetype": "text/x-python",
   "name": "python",
   "nbconvert_exporter": "python",
   "pygments_lexer": "ipython3",
   "version": "3.10.14"
  }
 },
 "nbformat": 4,
 "nbformat_minor": 5
}
