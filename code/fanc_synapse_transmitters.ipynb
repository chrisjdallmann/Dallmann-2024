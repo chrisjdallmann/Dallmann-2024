{
 "cells": [
  {
   "cell_type": "code",
   "execution_count": 1,
   "id": "d58ff2d6",
   "metadata": {},
   "outputs": [],
   "source": [
    "import pandas as pd\n",
    "import numpy as np\n",
    "import matplotlib.pyplot as plt\n",
    "from caveclient import CAVEclient\n",
    "\n",
    "import sys\n",
    "sys.path.append('utils')\n",
    "from FANC_utils import filter_syn_df, hl_nt_dict"
   ]
  },
  {
   "cell_type": "code",
   "execution_count": 2,
   "id": "87fcfe04",
   "metadata": {},
   "outputs": [],
   "source": [
    "# Initialize CAVEclient\n",
    "# This step requires an authentication token, see https://caveclient.readthedocs.io/en/latest/guide/authentication.html\n",
    "client = CAVEclient()\n",
    "datastack_name = 'fanc_production_mar2021'\n",
    "client = CAVEclient(datastack_name)\n",
    "client.materialize.version = 840"
   ]
  },
  {
   "cell_type": "code",
   "execution_count": 18,
   "id": "6f595789",
   "metadata": {},
   "outputs": [],
   "source": [
    "# Load table \n",
    "\n",
    "# Select claw or hook neurons\n",
    "cell_type = ['claw_flx','claw_ext']\n",
    "#cell_type = ['hook_flx','hook_ext']\n",
    "\n",
    "df = client.materialize.query_table('feco_axons_v0', \n",
    "                                    filter_in_dict = {'cell_type': cell_type})\n",
    "\n",
    "# Exclude partially reconstructed claw axons\n",
    "if 'claw_flx' in cell_type:\n",
    "    pt_position_to_exclude = np.array([[9093, 101264, 3740], [9401, 100947, 3740]])\n",
    "    ix_to_exclude = []\n",
    "    for ix, i in df.iterrows():\n",
    "        if (df.pt_position[ix]==pt_position_to_exclude).all(axis=1).any():\n",
    "            ix_to_exclude.append(ix)\n",
    "    df = df.drop(ix_to_exclude)"
   ]
  },
  {
   "cell_type": "code",
   "execution_count": 19,
   "id": "74f5fbcd",
   "metadata": {},
   "outputs": [],
   "source": [
    "# Get IDs of FeCO neurons\n",
    "feco_ids = df.pt_root_id.tolist()"
   ]
  },
  {
   "cell_type": "code",
   "execution_count": 20,
   "id": "2bf9cbbd",
   "metadata": {},
   "outputs": [],
   "source": [
    "# Query input synapses \n",
    "syn_df = client.materialize.synapse_query(post_ids = feco_ids)"
   ]
  },
  {
   "cell_type": "code",
   "execution_count": 21,
   "id": "ee1e6726",
   "metadata": {},
   "outputs": [],
   "source": [
    "# Remove connections less than syn_thresh from syn_df\n",
    "syn_thresh = 3\n",
    "syn_df = filter_syn_df(syn_df, syn_thresh)"
   ]
  },
  {
   "cell_type": "code",
   "execution_count": 22,
   "id": "d3d7051f",
   "metadata": {},
   "outputs": [],
   "source": [
    "# Add column syn_count\n",
    "syn_df['syn_count'] = 1"
   ]
  },
  {
   "cell_type": "code",
   "execution_count": 23,
   "id": "9aa9605c",
   "metadata": {},
   "outputs": [],
   "source": [
    "# Sum synapses for each partner neuron\n",
    "syn_df_sum = syn_df.groupby(['pre_pt_root_id'])['syn_count'].sum().reset_index().sort_values('syn_count', ascending=False)"
   ]
  },
  {
   "cell_type": "code",
   "execution_count": 24,
   "id": "39f628cd",
   "metadata": {},
   "outputs": [],
   "source": [
    "# Get IDs of partner neurons\n",
    "partner_ids = syn_df_sum.pre_pt_root_id.unique().tolist()"
   ]
  },
  {
   "cell_type": "code",
   "execution_count": 25,
   "id": "00e0e7a0",
   "metadata": {},
   "outputs": [],
   "source": [
    "# Load annotation table with hemilineages of partner neurons \n",
    "partner_df = client.materialize.query_table('upstream_feco_axons')\n",
    "partner_df_ids = partner_df.pt_root_id.tolist()"
   ]
  },
  {
   "cell_type": "code",
   "execution_count": 26,
   "id": "f222090c",
   "metadata": {},
   "outputs": [],
   "source": [
    "# Determine number of cholinergic (ACh), GABAergic (GABA), and glutamatergic (Glu) synapses \n",
    "n_syn_nt = {}\n",
    "n_syn_nt['ACh'] = 0\n",
    "n_syn_nt['GABA'] = 0\n",
    "n_syn_nt['Glu'] = 0\n",
    "n_syn_nt['Unknown'] = 0\n",
    "\n",
    "nt_dict = hl_nt_dict()\n",
    "nt_dict['hook'] = 'ACh'\n",
    "nt_dict['club'] = 'ACh'\n",
    "nt_dict['hair_plate'] = 'ACh'\n",
    "nt_dict['descending'] = 'Unknown'\n",
    "\n",
    "for i in partner_ids:\n",
    "    # Get number of synapses\n",
    "    n_syn = syn_df_sum.syn_count[syn_df_sum.pre_pt_root_id == i].item()\n",
    "    # Get hemilineage of partner neuron\n",
    "    if i in partner_df_ids:\n",
    "        cell_type = partner_df.cell_type[partner_df.pt_root_id == i].item()\n",
    "        # Look up primary neurotransmitter of hemilineage \n",
    "        nt = nt_dict[cell_type]\n",
    "    else: \n",
    "        nt = 'Unknown'\n",
    "\n",
    "    if nt in ['ACh', 'GABA', 'Glu']:\n",
    "        n_syn_nt[nt] += n_syn\n",
    "    else:\n",
    "        n_syn_nt['Unknown'] += n_syn"
   ]
  },
  {
   "cell_type": "code",
   "execution_count": 27,
   "id": "b730f412",
   "metadata": {},
   "outputs": [
    {
     "data": {
      "text/plain": [
       "{'ACh': 3, 'GABA': 230, 'Glu': 0, 'Unknown': 0}"
      ]
     },
     "execution_count": 27,
     "metadata": {},
     "output_type": "execute_result"
    }
   ],
   "source": [
    "n_syn_nt"
   ]
  },
  {
   "cell_type": "code",
   "execution_count": 29,
   "id": "4be33c18",
   "metadata": {},
   "outputs": [
    {
     "data": {
      "text/plain": [
       "0.9871244635193133"
      ]
     },
     "execution_count": 29,
     "metadata": {},
     "output_type": "execute_result"
    }
   ],
   "source": [
    "230/233"
   ]
  }
 ],
 "metadata": {
  "kernelspec": {
   "display_name": "Python 3 (ipykernel)",
   "language": "python",
   "name": "python3"
  },
  "language_info": {
   "codemirror_mode": {
    "name": "ipython",
    "version": 3
   },
   "file_extension": ".py",
   "mimetype": "text/x-python",
   "name": "python",
   "nbconvert_exporter": "python",
   "pygments_lexer": "ipython3",
   "version": "3.10.14"
  }
 },
 "nbformat": 4,
 "nbformat_minor": 5
}
