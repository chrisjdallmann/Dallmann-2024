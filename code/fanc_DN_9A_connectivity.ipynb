{
 "cells": [
  {
   "cell_type": "code",
   "execution_count": 3,
   "id": "15bdc774",
   "metadata": {},
   "outputs": [],
   "source": [
    "from caveclient import CAVEclient\n",
    "import os\n",
    "import pandas as pd\n",
    "import numpy as np\n",
    "import networkx as nx\n",
    "from pyvis.network import Network\n",
    "\n",
    "import sys\n",
    "sys.path.append('utils')\n",
    "from FANC_utils import filter_syn_df, compute_connectivity_matrix, hl_nt_dict, sort_partial_match"
   ]
  },
  {
   "cell_type": "code",
   "execution_count": 2,
   "id": "ff20fd30",
   "metadata": {},
   "outputs": [],
   "source": [
    "# Initialize CAVEclient\n",
    "# This step requires an authentication token, see https://caveclient.readthedocs.io/en/latest/guide/authentication.html\n",
    "client = CAVEclient()\n",
    "datastack_name = 'fanc_production_mar2021'\n",
    "client = CAVEclient(datastack_name)\n",
    "client.materialize.version = 840"
   ]
  },
  {
   "cell_type": "code",
   "execution_count": 4,
   "id": "9c13c91a",
   "metadata": {},
   "outputs": [],
   "source": [
    "# Specify 9A IDs \n",
    "# client.materialize.version = 840\n",
    "# timestamp = '2024-01-17T08:10:01.179472'\n",
    "source_ids = [648518346496946148, # chief_9A\n",
    "              648518346479847574, # 9A_1\n",
    "              648518346479837078, # 9A_2\n",
    "              648518346498002535, # 9A_3\n",
    "              648518346479879156, # 9A_4\n",
    "              648518346467364359, # 9A_5\n",
    "              648518346486716621] # 9A_6"
   ]
  },
  {
   "cell_type": "code",
   "execution_count": 6,
   "id": "ef6d8c53",
   "metadata": {},
   "outputs": [],
   "source": [
    "# Query input synapses\n",
    "syn_df = client.materialize.synapse_query(post_ids=source_ids)"
   ]
  },
  {
   "cell_type": "code",
   "execution_count": 7,
   "id": "ae533e97",
   "metadata": {},
   "outputs": [],
   "source": [
    "# Remove connections less than syn_thresh from syn_df \n",
    "syn_thresh = 3;\n",
    "syn_df_filt = filter_syn_df(syn_df, syn_thresh)"
   ]
  },
  {
   "cell_type": "code",
   "execution_count": 8,
   "id": "17c6376f",
   "metadata": {},
   "outputs": [],
   "source": [
    "# Get neuron information\n",
    "neuron_info_df = client.materialize.query_table('neuron_information')"
   ]
  },
  {
   "cell_type": "code",
   "execution_count": 9,
   "id": "28809bee",
   "metadata": {},
   "outputs": [],
   "source": [
    "# Get target IDs\n",
    "tag = 'descending'\n",
    "target_ids = neuron_info_df.pt_root_id[neuron_info_df.tag==tag].tolist()"
   ]
  },
  {
   "cell_type": "code",
   "execution_count": 11,
   "id": "91203449",
   "metadata": {},
   "outputs": [],
   "source": [
    "# Find synapses with descending neurons\n",
    "ix_to_include = []\n",
    "for ix, i in syn_df_filt.iterrows():\n",
    "    if syn_df_filt.pre_pt_root_id[ix] in target_ids: \n",
    "        ix_to_include.append(ix)"
   ]
  },
  {
   "cell_type": "code",
   "execution_count": 12,
   "id": "5fb3c2d5",
   "metadata": {},
   "outputs": [],
   "source": [
    "# Remove connections with neurons other than descending neurons\n",
    "syn_df_filt_filt = syn_df_filt.loc[ix_to_include]"
   ]
  },
  {
   "cell_type": "code",
   "execution_count": 16,
   "id": "9c0f66f3",
   "metadata": {},
   "outputs": [
    {
     "data": {
      "text/html": [
       "<div>\n",
       "<style scoped>\n",
       "    .dataframe tbody tr th:only-of-type {\n",
       "        vertical-align: middle;\n",
       "    }\n",
       "\n",
       "    .dataframe tbody tr th {\n",
       "        vertical-align: top;\n",
       "    }\n",
       "\n",
       "    .dataframe thead th {\n",
       "        text-align: right;\n",
       "    }\n",
       "</style>\n",
       "<table border=\"1\" class=\"dataframe\">\n",
       "  <thead>\n",
       "    <tr style=\"text-align: right;\">\n",
       "      <th></th>\n",
       "      <th>pre_pt_root_id</th>\n",
       "      <th>post_pt_root_id</th>\n",
       "      <th>number_of_synapses</th>\n",
       "    </tr>\n",
       "  </thead>\n",
       "  <tbody>\n",
       "    <tr>\n",
       "      <th>2</th>\n",
       "      <td>648518346459693060</td>\n",
       "      <td>648518346479837078</td>\n",
       "      <td>162</td>\n",
       "    </tr>\n",
       "    <tr>\n",
       "      <th>8</th>\n",
       "      <td>648518346476980936</td>\n",
       "      <td>648518346479837078</td>\n",
       "      <td>129</td>\n",
       "    </tr>\n",
       "    <tr>\n",
       "      <th>54</th>\n",
       "      <td>648518346496855192</td>\n",
       "      <td>648518346479837078</td>\n",
       "      <td>103</td>\n",
       "    </tr>\n",
       "    <tr>\n",
       "      <th>64</th>\n",
       "      <td>648518346503742369</td>\n",
       "      <td>648518346479837078</td>\n",
       "      <td>87</td>\n",
       "    </tr>\n",
       "    <tr>\n",
       "      <th>14</th>\n",
       "      <td>648518346478690132</td>\n",
       "      <td>648518346479837078</td>\n",
       "      <td>75</td>\n",
       "    </tr>\n",
       "    <tr>\n",
       "      <th>...</th>\n",
       "      <td>...</td>\n",
       "      <td>...</td>\n",
       "      <td>...</td>\n",
       "    </tr>\n",
       "    <tr>\n",
       "      <th>56</th>\n",
       "      <td>648518346497743463</td>\n",
       "      <td>648518346479837078</td>\n",
       "      <td>3</td>\n",
       "    </tr>\n",
       "    <tr>\n",
       "      <th>34</th>\n",
       "      <td>648518346487779095</td>\n",
       "      <td>648518346496946148</td>\n",
       "      <td>3</td>\n",
       "    </tr>\n",
       "    <tr>\n",
       "      <th>69</th>\n",
       "      <td>648518346514244039</td>\n",
       "      <td>648518346479837078</td>\n",
       "      <td>3</td>\n",
       "    </tr>\n",
       "    <tr>\n",
       "      <th>62</th>\n",
       "      <td>648518346502341799</td>\n",
       "      <td>648518346479837078</td>\n",
       "      <td>3</td>\n",
       "    </tr>\n",
       "    <tr>\n",
       "      <th>16</th>\n",
       "      <td>648518346479051471</td>\n",
       "      <td>648518346479837078</td>\n",
       "      <td>3</td>\n",
       "    </tr>\n",
       "  </tbody>\n",
       "</table>\n",
       "<p>74 rows × 3 columns</p>\n",
       "</div>"
      ],
      "text/plain": [
       "        pre_pt_root_id     post_pt_root_id  number_of_synapses\n",
       "2   648518346459693060  648518346479837078                 162\n",
       "8   648518346476980936  648518346479837078                 129\n",
       "54  648518346496855192  648518346479837078                 103\n",
       "64  648518346503742369  648518346479837078                  87\n",
       "14  648518346478690132  648518346479837078                  75\n",
       "..                 ...                 ...                 ...\n",
       "56  648518346497743463  648518346479837078                   3\n",
       "34  648518346487779095  648518346496946148                   3\n",
       "69  648518346514244039  648518346479837078                   3\n",
       "62  648518346502341799  648518346479837078                   3\n",
       "16  648518346479051471  648518346479837078                   3\n",
       "\n",
       "[74 rows x 3 columns]"
      ]
     },
     "execution_count": 16,
     "metadata": {},
     "output_type": "execute_result"
    }
   ],
   "source": [
    "# Sum synapses for each partner neuron\n",
    "syn_per_conn = syn_df_filt_filt.groupby(['pre_pt_root_id','post_pt_root_id'])['post_pt_root_id'].count().reset_index(name=\"number_of_synapses\").sort_values(by=[\"number_of_synapses\"]).sort_values(by=['number_of_synapses'], ascending=False) #.reset_index(drop=True)\n",
    "syn_per_conn "
   ]
  },
  {
   "cell_type": "code",
   "execution_count": 17,
   "id": "beef93e6",
   "metadata": {},
   "outputs": [],
   "source": [
    "target_ids = syn_per_conn.pre_pt_root_id.unique().tolist()\n",
    "source_ids = syn_per_conn.post_pt_root_id.unique().tolist()"
   ]
  },
  {
   "cell_type": "code",
   "execution_count": 18,
   "id": "3fe8738d",
   "metadata": {},
   "outputs": [],
   "source": [
    "# Build network graph\n",
    "neuron_net = nx.DiGraph() \n",
    "\n",
    "# Add nodes; have to be strings for pyvis\n",
    "target_names = [str(i) for i in target_ids]\n",
    "source_names = [str(i) for i in source_ids]\n",
    "neuron_net.add_nodes_from(target_names)\n",
    "neuron_net.add_nodes_from(source_names)"
   ]
  },
  {
   "cell_type": "code",
   "execution_count": 19,
   "id": "927a4768",
   "metadata": {},
   "outputs": [],
   "source": [
    "# Add edges\n",
    "for ix, i in syn_per_conn.iterrows(): \n",
    "    neuron_net.add_edge(str(syn_per_conn.pre_pt_root_id[ix]), # Has to be string for pyvis\n",
    "                        str(syn_per_conn.post_pt_root_id[ix]), \n",
    "                        weight=int(syn_per_conn.number_of_synapses[ix])/10,\n",
    "                        width=int(syn_per_conn.number_of_synapses[ix])/10,\n",
    "                        title=str(syn_per_conn.number_of_synapses[ix]))   "
   ]
  },
  {
   "cell_type": "code",
   "execution_count": 20,
   "id": "7c9be682",
   "metadata": {},
   "outputs": [
    {
     "name": "stdout",
     "output_type": "stream",
     "text": [
      "DN_9A_connectivity.html\n"
     ]
    }
   ],
   "source": [
    "# Generate html file\n",
    "net = Network(width='80%', height='1000px')\n",
    "net.from_nx(neuron_net)\n",
    "for i in net.nodes:\n",
    "    i.update({'physics': False})\n",
    "\n",
    "net.show('DN_9A_connectivity.html', notebook=False)"
   ]
  }
 ],
 "metadata": {
  "kernelspec": {
   "display_name": "Python 3 (ipykernel)",
   "language": "python",
   "name": "python3"
  },
  "language_info": {
   "codemirror_mode": {
    "name": "ipython",
    "version": 3
   },
   "file_extension": ".py",
   "mimetype": "text/x-python",
   "name": "python",
   "nbconvert_exporter": "python",
   "pygments_lexer": "ipython3",
   "version": "3.10.14"
  }
 },
 "nbformat": 4,
 "nbformat_minor": 5
}
